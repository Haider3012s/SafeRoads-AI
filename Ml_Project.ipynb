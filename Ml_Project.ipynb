{
  "nbformat": 4,
  "nbformat_minor": 0,
  "metadata": {
    "colab": {
      "provenance": [],
      "authorship_tag": "ABX9TyM7aXTTf1CYrlV0vOa4YJGr",
      "include_colab_link": true
    },
    "kernelspec": {
      "name": "python3",
      "display_name": "Python 3"
    },
    "language_info": {
      "name": "python"
    }
  },
  "cells": [
    {
      "cell_type": "markdown",
      "metadata": {
        "id": "view-in-github",
        "colab_type": "text"
      },
      "source": [
        "<a href=\"https://colab.research.google.com/github/Haider3012s/SafeRoads-AI/blob/main/Ml_Project.ipynb\" target=\"_parent\"><img src=\"https://colab.research.google.com/assets/colab-badge.svg\" alt=\"Open In Colab\"/></a>"
      ]
    },
    {
      "cell_type": "code",
      "source": [
        "from sklearn.preprocessing import StandardScaler\n",
        "import matplotlib.pyplot as plt\n",
        "from sklearn.cluster import KMeans, AgglomerativeClustering\n",
        "import pandas as pd\n",
        "from sklearn.metrics import silhouette_score, calinski_harabasz_score\n",
        "from sklearn.feature_selection import RFE\n",
        "from sklearn.ensemble import RandomForestClassifier\n",
        "from sklearn.preprocessing import LabelEncoder\n",
        "from imblearn.over_sampling import SMOTE\n",
        "from imblearn.under_sampling import RandomUnderSampler\n",
        "from collections import Counter\n",
        "from sklearn.impute import SimpleImputer\n",
        "from sklearn.linear_model import LogisticRegression\n",
        "from sklearn.svm import SVC\n",
        "from sklearn.ensemble import RandomForestClassifier, GradientBoostingClassifier\n",
        "from xgboost import XGBClassifier\n",
        "from sklearn.metrics import accuracy_score, precision_score, recall_score, f1_score, classification_report, confusion_matrix\n",
        "import numpy as np"
      ],
      "metadata": {
        "id": "drySAN2Ju5PF"
      },
      "execution_count": null,
      "outputs": []
    },
    {
      "cell_type": "code",
      "execution_count": 2,
      "metadata": {
        "colab": {
          "base_uri": "https://localhost:8080/",
          "height": 307
        },
        "id": "or3NrhttZt5J",
        "outputId": "d6bbd3ca-0939-4471-cecb-442b1eb1c1e8"
      },
      "outputs": [
        {
          "output_type": "stream",
          "name": "stdout",
          "text": [
            "Dataset shape: (38411, 38)\n"
          ]
        },
        {
          "output_type": "stream",
          "name": "stderr",
          "text": [
            "<ipython-input-2-bfd1336fbb5f>:3: DtypeWarning: Columns (1,3) have mixed types. Specify dtype option on import or set low_memory=False.\n",
            "  df = pd.read_csv('/content/DS1.csv')\n"
          ]
        },
        {
          "output_type": "execute_result",
          "data": {
            "text/plain": [
              "        status collision_index  collision_year collision_reference  \\\n",
              "0  Unvalidated   2024010486807            2024            10486807   \n",
              "1  Unvalidated   2024010486821            2024            10486821   \n",
              "2  Unvalidated   2024010486824            2024            10486824   \n",
              "3  Unvalidated   2024010486825            2024            10486825   \n",
              "4  Unvalidated   2024010486828            2024            10486828   \n",
              "\n",
              "   location_easting_osgr  location_northing_osgr  longitude  latitude  \\\n",
              "0               527188.0                184782.0        NaN       NaN   \n",
              "1               528936.0                194721.0        NaN       NaN   \n",
              "2               552699.0                185940.0        NaN       NaN   \n",
              "3               545623.0                177185.0        NaN       NaN   \n",
              "4               536554.0                178468.0        NaN       NaN   \n",
              "\n",
              "   police_force  legacy_collision_severity  ...  light_conditions  \\\n",
              "0             1                          3  ...               4.0   \n",
              "1             1                          3  ...               4.0   \n",
              "2             1                          3  ...               4.0   \n",
              "3             1                          3  ...               4.0   \n",
              "4             1                          3  ...               4.0   \n",
              "\n",
              "   weather_conditions road_surface_conditions  special_conditions_at_site  \\\n",
              "0                 1.0                     1.0                         0.0   \n",
              "1                 4.0                     2.0                         9.0   \n",
              "2                 8.0                     2.0                         0.0   \n",
              "3                 1.0                     1.0                         0.0   \n",
              "4                 4.0                     2.0                         0.0   \n",
              "\n",
              "  carriageway_hazards  urban_or_rural_area  \\\n",
              "0                 0.0                 -1.0   \n",
              "1                 0.0                 -1.0   \n",
              "2                 0.0                 -1.0   \n",
              "3                 0.0                 -1.0   \n",
              "4                 0.0                 -1.0   \n",
              "\n",
              "  did_police_officer_attend_scene_of_collision trunk_road_flag  \\\n",
              "0                                          3.0            -1.0   \n",
              "1                                          3.0            -1.0   \n",
              "2                                          1.0            -1.0   \n",
              "3                                          1.0            -1.0   \n",
              "4                                          1.0            -1.0   \n",
              "\n",
              "   lsoa_of_collision_location  enhanced_severity_collision  \n",
              "0                        -1.0                         -1.0  \n",
              "1                        -1.0                         -1.0  \n",
              "2                        -1.0                         -1.0  \n",
              "3                        -1.0                         -1.0  \n",
              "4                        -1.0                         -1.0  \n",
              "\n",
              "[5 rows x 38 columns]"
            ],
            "text/html": [
              "\n",
              "  <div id=\"df-6b0cd439-7d5a-4a4d-b8da-37fd7a7834da\" class=\"colab-df-container\">\n",
              "    <div>\n",
              "<style scoped>\n",
              "    .dataframe tbody tr th:only-of-type {\n",
              "        vertical-align: middle;\n",
              "    }\n",
              "\n",
              "    .dataframe tbody tr th {\n",
              "        vertical-align: top;\n",
              "    }\n",
              "\n",
              "    .dataframe thead th {\n",
              "        text-align: right;\n",
              "    }\n",
              "</style>\n",
              "<table border=\"1\" class=\"dataframe\">\n",
              "  <thead>\n",
              "    <tr style=\"text-align: right;\">\n",
              "      <th></th>\n",
              "      <th>status</th>\n",
              "      <th>collision_index</th>\n",
              "      <th>collision_year</th>\n",
              "      <th>collision_reference</th>\n",
              "      <th>location_easting_osgr</th>\n",
              "      <th>location_northing_osgr</th>\n",
              "      <th>longitude</th>\n",
              "      <th>latitude</th>\n",
              "      <th>police_force</th>\n",
              "      <th>legacy_collision_severity</th>\n",
              "      <th>...</th>\n",
              "      <th>light_conditions</th>\n",
              "      <th>weather_conditions</th>\n",
              "      <th>road_surface_conditions</th>\n",
              "      <th>special_conditions_at_site</th>\n",
              "      <th>carriageway_hazards</th>\n",
              "      <th>urban_or_rural_area</th>\n",
              "      <th>did_police_officer_attend_scene_of_collision</th>\n",
              "      <th>trunk_road_flag</th>\n",
              "      <th>lsoa_of_collision_location</th>\n",
              "      <th>enhanced_severity_collision</th>\n",
              "    </tr>\n",
              "  </thead>\n",
              "  <tbody>\n",
              "    <tr>\n",
              "      <th>0</th>\n",
              "      <td>Unvalidated</td>\n",
              "      <td>2024010486807</td>\n",
              "      <td>2024</td>\n",
              "      <td>10486807</td>\n",
              "      <td>527188.0</td>\n",
              "      <td>184782.0</td>\n",
              "      <td>NaN</td>\n",
              "      <td>NaN</td>\n",
              "      <td>1</td>\n",
              "      <td>3</td>\n",
              "      <td>...</td>\n",
              "      <td>4.0</td>\n",
              "      <td>1.0</td>\n",
              "      <td>1.0</td>\n",
              "      <td>0.0</td>\n",
              "      <td>0.0</td>\n",
              "      <td>-1.0</td>\n",
              "      <td>3.0</td>\n",
              "      <td>-1.0</td>\n",
              "      <td>-1.0</td>\n",
              "      <td>-1.0</td>\n",
              "    </tr>\n",
              "    <tr>\n",
              "      <th>1</th>\n",
              "      <td>Unvalidated</td>\n",
              "      <td>2024010486821</td>\n",
              "      <td>2024</td>\n",
              "      <td>10486821</td>\n",
              "      <td>528936.0</td>\n",
              "      <td>194721.0</td>\n",
              "      <td>NaN</td>\n",
              "      <td>NaN</td>\n",
              "      <td>1</td>\n",
              "      <td>3</td>\n",
              "      <td>...</td>\n",
              "      <td>4.0</td>\n",
              "      <td>4.0</td>\n",
              "      <td>2.0</td>\n",
              "      <td>9.0</td>\n",
              "      <td>0.0</td>\n",
              "      <td>-1.0</td>\n",
              "      <td>3.0</td>\n",
              "      <td>-1.0</td>\n",
              "      <td>-1.0</td>\n",
              "      <td>-1.0</td>\n",
              "    </tr>\n",
              "    <tr>\n",
              "      <th>2</th>\n",
              "      <td>Unvalidated</td>\n",
              "      <td>2024010486824</td>\n",
              "      <td>2024</td>\n",
              "      <td>10486824</td>\n",
              "      <td>552699.0</td>\n",
              "      <td>185940.0</td>\n",
              "      <td>NaN</td>\n",
              "      <td>NaN</td>\n",
              "      <td>1</td>\n",
              "      <td>3</td>\n",
              "      <td>...</td>\n",
              "      <td>4.0</td>\n",
              "      <td>8.0</td>\n",
              "      <td>2.0</td>\n",
              "      <td>0.0</td>\n",
              "      <td>0.0</td>\n",
              "      <td>-1.0</td>\n",
              "      <td>1.0</td>\n",
              "      <td>-1.0</td>\n",
              "      <td>-1.0</td>\n",
              "      <td>-1.0</td>\n",
              "    </tr>\n",
              "    <tr>\n",
              "      <th>3</th>\n",
              "      <td>Unvalidated</td>\n",
              "      <td>2024010486825</td>\n",
              "      <td>2024</td>\n",
              "      <td>10486825</td>\n",
              "      <td>545623.0</td>\n",
              "      <td>177185.0</td>\n",
              "      <td>NaN</td>\n",
              "      <td>NaN</td>\n",
              "      <td>1</td>\n",
              "      <td>3</td>\n",
              "      <td>...</td>\n",
              "      <td>4.0</td>\n",
              "      <td>1.0</td>\n",
              "      <td>1.0</td>\n",
              "      <td>0.0</td>\n",
              "      <td>0.0</td>\n",
              "      <td>-1.0</td>\n",
              "      <td>1.0</td>\n",
              "      <td>-1.0</td>\n",
              "      <td>-1.0</td>\n",
              "      <td>-1.0</td>\n",
              "    </tr>\n",
              "    <tr>\n",
              "      <th>4</th>\n",
              "      <td>Unvalidated</td>\n",
              "      <td>2024010486828</td>\n",
              "      <td>2024</td>\n",
              "      <td>10486828</td>\n",
              "      <td>536554.0</td>\n",
              "      <td>178468.0</td>\n",
              "      <td>NaN</td>\n",
              "      <td>NaN</td>\n",
              "      <td>1</td>\n",
              "      <td>3</td>\n",
              "      <td>...</td>\n",
              "      <td>4.0</td>\n",
              "      <td>4.0</td>\n",
              "      <td>2.0</td>\n",
              "      <td>0.0</td>\n",
              "      <td>0.0</td>\n",
              "      <td>-1.0</td>\n",
              "      <td>1.0</td>\n",
              "      <td>-1.0</td>\n",
              "      <td>-1.0</td>\n",
              "      <td>-1.0</td>\n",
              "    </tr>\n",
              "  </tbody>\n",
              "</table>\n",
              "<p>5 rows × 38 columns</p>\n",
              "</div>\n",
              "    <div class=\"colab-df-buttons\">\n",
              "\n",
              "  <div class=\"colab-df-container\">\n",
              "    <button class=\"colab-df-convert\" onclick=\"convertToInteractive('df-6b0cd439-7d5a-4a4d-b8da-37fd7a7834da')\"\n",
              "            title=\"Convert this dataframe to an interactive table.\"\n",
              "            style=\"display:none;\">\n",
              "\n",
              "  <svg xmlns=\"http://www.w3.org/2000/svg\" height=\"24px\" viewBox=\"0 -960 960 960\">\n",
              "    <path d=\"M120-120v-720h720v720H120Zm60-500h600v-160H180v160Zm220 220h160v-160H400v160Zm0 220h160v-160H400v160ZM180-400h160v-160H180v160Zm440 0h160v-160H620v160ZM180-180h160v-160H180v160Zm440 0h160v-160H620v160Z\"/>\n",
              "  </svg>\n",
              "    </button>\n",
              "\n",
              "  <style>\n",
              "    .colab-df-container {\n",
              "      display:flex;\n",
              "      gap: 12px;\n",
              "    }\n",
              "\n",
              "    .colab-df-convert {\n",
              "      background-color: #E8F0FE;\n",
              "      border: none;\n",
              "      border-radius: 50%;\n",
              "      cursor: pointer;\n",
              "      display: none;\n",
              "      fill: #1967D2;\n",
              "      height: 32px;\n",
              "      padding: 0 0 0 0;\n",
              "      width: 32px;\n",
              "    }\n",
              "\n",
              "    .colab-df-convert:hover {\n",
              "      background-color: #E2EBFA;\n",
              "      box-shadow: 0px 1px 2px rgba(60, 64, 67, 0.3), 0px 1px 3px 1px rgba(60, 64, 67, 0.15);\n",
              "      fill: #174EA6;\n",
              "    }\n",
              "\n",
              "    .colab-df-buttons div {\n",
              "      margin-bottom: 4px;\n",
              "    }\n",
              "\n",
              "    [theme=dark] .colab-df-convert {\n",
              "      background-color: #3B4455;\n",
              "      fill: #D2E3FC;\n",
              "    }\n",
              "\n",
              "    [theme=dark] .colab-df-convert:hover {\n",
              "      background-color: #434B5C;\n",
              "      box-shadow: 0px 1px 3px 1px rgba(0, 0, 0, 0.15);\n",
              "      filter: drop-shadow(0px 1px 2px rgba(0, 0, 0, 0.3));\n",
              "      fill: #FFFFFF;\n",
              "    }\n",
              "  </style>\n",
              "\n",
              "    <script>\n",
              "      const buttonEl =\n",
              "        document.querySelector('#df-6b0cd439-7d5a-4a4d-b8da-37fd7a7834da button.colab-df-convert');\n",
              "      buttonEl.style.display =\n",
              "        google.colab.kernel.accessAllowed ? 'block' : 'none';\n",
              "\n",
              "      async function convertToInteractive(key) {\n",
              "        const element = document.querySelector('#df-6b0cd439-7d5a-4a4d-b8da-37fd7a7834da');\n",
              "        const dataTable =\n",
              "          await google.colab.kernel.invokeFunction('convertToInteractive',\n",
              "                                                    [key], {});\n",
              "        if (!dataTable) return;\n",
              "\n",
              "        const docLinkHtml = 'Like what you see? Visit the ' +\n",
              "          '<a target=\"_blank\" href=https://colab.research.google.com/notebooks/data_table.ipynb>data table notebook</a>'\n",
              "          + ' to learn more about interactive tables.';\n",
              "        element.innerHTML = '';\n",
              "        dataTable['output_type'] = 'display_data';\n",
              "        await google.colab.output.renderOutput(dataTable, element);\n",
              "        const docLink = document.createElement('div');\n",
              "        docLink.innerHTML = docLinkHtml;\n",
              "        element.appendChild(docLink);\n",
              "      }\n",
              "    </script>\n",
              "  </div>\n",
              "\n",
              "\n",
              "    <div id=\"df-ed7cfc8f-eb93-4b00-92b0-1922dc876fe0\">\n",
              "      <button class=\"colab-df-quickchart\" onclick=\"quickchart('df-ed7cfc8f-eb93-4b00-92b0-1922dc876fe0')\"\n",
              "                title=\"Suggest charts\"\n",
              "                style=\"display:none;\">\n",
              "\n",
              "<svg xmlns=\"http://www.w3.org/2000/svg\" height=\"24px\"viewBox=\"0 0 24 24\"\n",
              "     width=\"24px\">\n",
              "    <g>\n",
              "        <path d=\"M19 3H5c-1.1 0-2 .9-2 2v14c0 1.1.9 2 2 2h14c1.1 0 2-.9 2-2V5c0-1.1-.9-2-2-2zM9 17H7v-7h2v7zm4 0h-2V7h2v10zm4 0h-2v-4h2v4z\"/>\n",
              "    </g>\n",
              "</svg>\n",
              "      </button>\n",
              "\n",
              "<style>\n",
              "  .colab-df-quickchart {\n",
              "      --bg-color: #E8F0FE;\n",
              "      --fill-color: #1967D2;\n",
              "      --hover-bg-color: #E2EBFA;\n",
              "      --hover-fill-color: #174EA6;\n",
              "      --disabled-fill-color: #AAA;\n",
              "      --disabled-bg-color: #DDD;\n",
              "  }\n",
              "\n",
              "  [theme=dark] .colab-df-quickchart {\n",
              "      --bg-color: #3B4455;\n",
              "      --fill-color: #D2E3FC;\n",
              "      --hover-bg-color: #434B5C;\n",
              "      --hover-fill-color: #FFFFFF;\n",
              "      --disabled-bg-color: #3B4455;\n",
              "      --disabled-fill-color: #666;\n",
              "  }\n",
              "\n",
              "  .colab-df-quickchart {\n",
              "    background-color: var(--bg-color);\n",
              "    border: none;\n",
              "    border-radius: 50%;\n",
              "    cursor: pointer;\n",
              "    display: none;\n",
              "    fill: var(--fill-color);\n",
              "    height: 32px;\n",
              "    padding: 0;\n",
              "    width: 32px;\n",
              "  }\n",
              "\n",
              "  .colab-df-quickchart:hover {\n",
              "    background-color: var(--hover-bg-color);\n",
              "    box-shadow: 0 1px 2px rgba(60, 64, 67, 0.3), 0 1px 3px 1px rgba(60, 64, 67, 0.15);\n",
              "    fill: var(--button-hover-fill-color);\n",
              "  }\n",
              "\n",
              "  .colab-df-quickchart-complete:disabled,\n",
              "  .colab-df-quickchart-complete:disabled:hover {\n",
              "    background-color: var(--disabled-bg-color);\n",
              "    fill: var(--disabled-fill-color);\n",
              "    box-shadow: none;\n",
              "  }\n",
              "\n",
              "  .colab-df-spinner {\n",
              "    border: 2px solid var(--fill-color);\n",
              "    border-color: transparent;\n",
              "    border-bottom-color: var(--fill-color);\n",
              "    animation:\n",
              "      spin 1s steps(1) infinite;\n",
              "  }\n",
              "\n",
              "  @keyframes spin {\n",
              "    0% {\n",
              "      border-color: transparent;\n",
              "      border-bottom-color: var(--fill-color);\n",
              "      border-left-color: var(--fill-color);\n",
              "    }\n",
              "    20% {\n",
              "      border-color: transparent;\n",
              "      border-left-color: var(--fill-color);\n",
              "      border-top-color: var(--fill-color);\n",
              "    }\n",
              "    30% {\n",
              "      border-color: transparent;\n",
              "      border-left-color: var(--fill-color);\n",
              "      border-top-color: var(--fill-color);\n",
              "      border-right-color: var(--fill-color);\n",
              "    }\n",
              "    40% {\n",
              "      border-color: transparent;\n",
              "      border-right-color: var(--fill-color);\n",
              "      border-top-color: var(--fill-color);\n",
              "    }\n",
              "    60% {\n",
              "      border-color: transparent;\n",
              "      border-right-color: var(--fill-color);\n",
              "    }\n",
              "    80% {\n",
              "      border-color: transparent;\n",
              "      border-right-color: var(--fill-color);\n",
              "      border-bottom-color: var(--fill-color);\n",
              "    }\n",
              "    90% {\n",
              "      border-color: transparent;\n",
              "      border-bottom-color: var(--fill-color);\n",
              "    }\n",
              "  }\n",
              "</style>\n",
              "\n",
              "      <script>\n",
              "        async function quickchart(key) {\n",
              "          const quickchartButtonEl =\n",
              "            document.querySelector('#' + key + ' button');\n",
              "          quickchartButtonEl.disabled = true;  // To prevent multiple clicks.\n",
              "          quickchartButtonEl.classList.add('colab-df-spinner');\n",
              "          try {\n",
              "            const charts = await google.colab.kernel.invokeFunction(\n",
              "                'suggestCharts', [key], {});\n",
              "          } catch (error) {\n",
              "            console.error('Error during call to suggestCharts:', error);\n",
              "          }\n",
              "          quickchartButtonEl.classList.remove('colab-df-spinner');\n",
              "          quickchartButtonEl.classList.add('colab-df-quickchart-complete');\n",
              "        }\n",
              "        (() => {\n",
              "          let quickchartButtonEl =\n",
              "            document.querySelector('#df-ed7cfc8f-eb93-4b00-92b0-1922dc876fe0 button');\n",
              "          quickchartButtonEl.style.display =\n",
              "            google.colab.kernel.accessAllowed ? 'block' : 'none';\n",
              "        })();\n",
              "      </script>\n",
              "    </div>\n",
              "\n",
              "    </div>\n",
              "  </div>\n"
            ],
            "application/vnd.google.colaboratory.intrinsic+json": {
              "type": "dataframe",
              "variable_name": "df"
            }
          },
          "metadata": {},
          "execution_count": 2
        }
      ],
      "source": [
        "df = pd.read_csv('/content/DS1.csv')\n",
        "\n",
        "print(\"Dataset shape:\", df.shape)\n",
        "df.head(5)"
      ]
    },
    {
      "cell_type": "code",
      "source": [
        "df.info()\n",
        "missing = df.isna().sum().sort_values(ascending=False)\n",
        "missing.head(10)"
      ],
      "metadata": {
        "colab": {
          "base_uri": "https://localhost:8080/",
          "height": 1000
        },
        "id": "Q3YXqoDUaZvF",
        "outputId": "29932f83-dc67-4894-c7e3-5227c08f6f48"
      },
      "execution_count": 16,
      "outputs": [
        {
          "output_type": "stream",
          "name": "stdout",
          "text": [
            "<class 'pandas.core.frame.DataFrame'>\n",
            "RangeIndex: 38411 entries, 0 to 38410\n",
            "Data columns (total 33 columns):\n",
            " #   Column                                        Non-Null Count  Dtype         \n",
            "---  ------                                        --------------  -----         \n",
            " 0   collision_year                                38411 non-null  int64         \n",
            " 1   location_easting_osgr                         38411 non-null  float64       \n",
            " 2   location_northing_osgr                        38411 non-null  float64       \n",
            " 3   police_force                                  38411 non-null  int64         \n",
            " 4   legacy_collision_severity                     38411 non-null  int64         \n",
            " 5   number_of_vehicles                            38411 non-null  int64         \n",
            " 6   number_of_casualties                          38411 non-null  int64         \n",
            " 7   date                                          14983 non-null  datetime64[ns]\n",
            " 8   day_of_week                                   38411 non-null  int64         \n",
            " 9   local_authority_district                      38411 non-null  int64         \n",
            " 10  local_authority_ons_district                  38411 non-null  int64         \n",
            " 11  local_authority_highway                       38411 non-null  int64         \n",
            " 12  first_road_class                              38410 non-null  float64       \n",
            " 13  first_road_number                             38410 non-null  float64       \n",
            " 14  road_type                                     38410 non-null  float64       \n",
            " 15  speed_limit                                   38410 non-null  float64       \n",
            " 16  junction_detail                               38410 non-null  float64       \n",
            " 17  junction_control                              38410 non-null  float64       \n",
            " 18  second_road_class                             38410 non-null  float64       \n",
            " 19  second_road_number                            38410 non-null  float64       \n",
            " 20  pedestrian_crossing_human_control             38410 non-null  float64       \n",
            " 21  pedestrian_crossing_physical_facilities       38410 non-null  float64       \n",
            " 22  light_conditions                              38410 non-null  float64       \n",
            " 23  weather_conditions                            38410 non-null  float64       \n",
            " 24  road_surface_conditions                       38410 non-null  float64       \n",
            " 25  special_conditions_at_site                    38410 non-null  float64       \n",
            " 26  carriageway_hazards                           38410 non-null  float64       \n",
            " 27  urban_or_rural_area                           38410 non-null  float64       \n",
            " 28  did_police_officer_attend_scene_of_collision  38410 non-null  float64       \n",
            " 29  trunk_road_flag                               38410 non-null  float64       \n",
            " 30  lsoa_of_collision_location                    38410 non-null  float64       \n",
            " 31  enhanced_severity_collision                   38410 non-null  float64       \n",
            " 32  hour                                          38411 non-null  int32         \n",
            "dtypes: datetime64[ns](1), float64(22), int32(1), int64(9)\n",
            "memory usage: 9.5 MB\n"
          ]
        },
        {
          "output_type": "execute_result",
          "data": {
            "text/plain": [
              "date                          23428\n",
              "trunk_road_flag                   1\n",
              "road_type                         1\n",
              "speed_limit                       1\n",
              "junction_detail                   1\n",
              "first_road_number                 1\n",
              "first_road_class                  1\n",
              "carriageway_hazards               1\n",
              "special_conditions_at_site        1\n",
              "road_surface_conditions           1\n",
              "dtype: int64"
            ],
            "text/html": [
              "<div>\n",
              "<style scoped>\n",
              "    .dataframe tbody tr th:only-of-type {\n",
              "        vertical-align: middle;\n",
              "    }\n",
              "\n",
              "    .dataframe tbody tr th {\n",
              "        vertical-align: top;\n",
              "    }\n",
              "\n",
              "    .dataframe thead th {\n",
              "        text-align: right;\n",
              "    }\n",
              "</style>\n",
              "<table border=\"1\" class=\"dataframe\">\n",
              "  <thead>\n",
              "    <tr style=\"text-align: right;\">\n",
              "      <th></th>\n",
              "      <th>0</th>\n",
              "    </tr>\n",
              "  </thead>\n",
              "  <tbody>\n",
              "    <tr>\n",
              "      <th>date</th>\n",
              "      <td>23428</td>\n",
              "    </tr>\n",
              "    <tr>\n",
              "      <th>trunk_road_flag</th>\n",
              "      <td>1</td>\n",
              "    </tr>\n",
              "    <tr>\n",
              "      <th>road_type</th>\n",
              "      <td>1</td>\n",
              "    </tr>\n",
              "    <tr>\n",
              "      <th>speed_limit</th>\n",
              "      <td>1</td>\n",
              "    </tr>\n",
              "    <tr>\n",
              "      <th>junction_detail</th>\n",
              "      <td>1</td>\n",
              "    </tr>\n",
              "    <tr>\n",
              "      <th>first_road_number</th>\n",
              "      <td>1</td>\n",
              "    </tr>\n",
              "    <tr>\n",
              "      <th>first_road_class</th>\n",
              "      <td>1</td>\n",
              "    </tr>\n",
              "    <tr>\n",
              "      <th>carriageway_hazards</th>\n",
              "      <td>1</td>\n",
              "    </tr>\n",
              "    <tr>\n",
              "      <th>special_conditions_at_site</th>\n",
              "      <td>1</td>\n",
              "    </tr>\n",
              "    <tr>\n",
              "      <th>road_surface_conditions</th>\n",
              "      <td>1</td>\n",
              "    </tr>\n",
              "  </tbody>\n",
              "</table>\n",
              "</div><br><label><b>dtype:</b> int64</label>"
            ]
          },
          "metadata": {},
          "execution_count": 16
        }
      ]
    },
    {
      "cell_type": "code",
      "source": [
        "df = df.drop(columns=['latitude', 'longitude'])\n",
        "\n",
        "df['location_easting_osgr'].fillna(df['location_easting_osgr'].median(), inplace=True)\n",
        "df['location_northing_osgr'].fillna(df['location_northing_osgr'].median(), inplace=True)"
      ],
      "metadata": {
        "id": "V_unQjmSaflB"
      },
      "execution_count": null,
      "outputs": []
    },
    {
      "cell_type": "code",
      "source": [
        "df.dtypes\n",
        "\n",
        "print(df['enhanced_severity_collision'].value_counts())\n",
        "print(df['enhanced_severity_collision'].unique())\n"
      ],
      "metadata": {
        "colab": {
          "base_uri": "https://localhost:8080/"
        },
        "id": "qT9NMXB_ajyz",
        "outputId": "6ef4e789-7d10-4250-ae2b-a7402ecbfb71"
      },
      "execution_count": 5,
      "outputs": [
        {
          "output_type": "stream",
          "name": "stdout",
          "text": [
            "enhanced_severity_collision\n",
            " 3.0    16540\n",
            "-1.0    15658\n",
            " 7.0     3546\n",
            " 6.0     1286\n",
            " 5.0     1026\n",
            " 1.0      354\n",
            "Name: count, dtype: int64\n",
            "[-1.  3.  1.  7.  6.  5. nan]\n"
          ]
        }
      ]
    },
    {
      "cell_type": "code",
      "source": [
        "df['date'] = pd.to_datetime(df['date'], errors='coerce')\n",
        "\n",
        "categorical_cols = df.select_dtypes(include=['object']).columns\n",
        "print(categorical_cols)"
      ],
      "metadata": {
        "colab": {
          "base_uri": "https://localhost:8080/"
        },
        "id": "uvPkNYTFanoh",
        "outputId": "1cb36a6c-86d7-4656-cca1-1096259c1f9d"
      },
      "execution_count": 6,
      "outputs": [
        {
          "output_type": "stream",
          "name": "stdout",
          "text": [
            "Index(['status', 'collision_index', 'collision_reference', 'time',\n",
            "       'local_authority_ons_district', 'local_authority_highway'],\n",
            "      dtype='object')\n"
          ]
        }
      ]
    },
    {
      "cell_type": "code",
      "source": [
        "for col in categorical_cols:\n",
        "    print(f\"{col}: {df[col].unique()}\")"
      ],
      "metadata": {
        "colab": {
          "base_uri": "https://localhost:8080/"
        },
        "id": "OF26LD3Ia3Dn",
        "outputId": "3bd42e1a-9e54-4c44-f61f-bc3e26940d57"
      },
      "execution_count": 7,
      "outputs": [
        {
          "output_type": "stream",
          "name": "stdout",
          "text": [
            "status: ['Unvalidated']\n",
            "collision_index: [2024010486807 2024010486821 2024010486824 ... 2024471439899 2024471439932\n",
            " 2024471439935]\n",
            "collision_reference: [10486807 10486821 10486824 ... 471439899 471439932 471439935]\n",
            "time: ['01:00' '01:42' '02:23' ... '05:37' '04:24' '00:34']\n",
            "local_authority_ons_district: ['E09000007' 'E09000010' 'E09000016' 'E09000011' 'E09000023' 'E09000022'\n",
            " 'E09000014' 'E09000033' 'E09000012' 'E09000027' 'E09000030' 'E09000015'\n",
            " 'E09000019' 'E09000025' 'E09000004' 'E09000026' 'E09000005' 'E09000006'\n",
            " 'E09000003' 'E09000018' 'E09000017' 'E09000028' 'E09000021' 'E09000009'\n",
            " 'E09000032' 'E09000031' 'E09000002' 'E09000020' 'E09000024' 'E09000008'\n",
            " 'E09000029' 'E09000013' 'EHEATHROW' 'E06000063' 'E06000064' 'E07000121'\n",
            " 'E07000126' 'E07000118' 'E06000009' 'E07000127' 'E07000122' 'E07000123'\n",
            " 'E07000119' 'E07000117' 'E07000124' 'E06000008' 'E07000120' 'E07000128'\n",
            " 'E07000125' 'E08000013' 'E08000015' 'E08000012' 'E08000011' 'E08000014'\n",
            " 'E08000008' 'E08000003' 'E08000005' 'E08000001' 'E08000010' 'E08000009'\n",
            " 'E08000004' 'E08000006' 'E08000007' 'E08000002' 'E06000050' 'E06000049'\n",
            " 'E06000007' 'E06000006' 'E08000021' 'E06000057' 'E08000024' 'E08000037'\n",
            " 'E08000022' 'E08000023' 'E08000035' 'E06000047' 'E06000005' 'E06000065'\n",
            " 'E06000014' 'E08000032' 'E08000034' 'E08000033' 'E08000036' 'E08000017'\n",
            " 'E07000037' 'E08000016' 'E08000019' 'E08000018' 'E07000033' 'E06000012'\n",
            " 'E06000010' 'E06000013' 'E06000011' 'E07000142' 'E06000004' 'E06000001'\n",
            " 'E06000003' 'E06000002' 'E08000025' 'E08000031' 'E08000028' 'E08000029'\n",
            " 'E08000026' 'E08000027' 'E08000030' 'E07000218' 'E07000196' 'E07000234'\n",
            " 'E07000192' 'E07000193' 'E07000195' 'E07000197' 'E07000194' 'E07000198'\n",
            " 'E06000021' 'E07000199' 'E06000020' 'E06000051' 'E07000239' 'E07000235'\n",
            " 'E06000019' 'E07000237' 'E07000238' 'E07000236' 'E07000222' 'E07000219'\n",
            " 'E07000220' 'E07000221' 'E07000132' 'E07000038' 'E06000015' 'E07000039'\n",
            " 'E07000032' 'E07000035' 'E07000034' 'E07000036' 'E06000018' 'E07000176'\n",
            " 'E07000170' 'E07000171' 'E07000173' 'E07000175' 'E07000174' 'E07000172'\n",
            " 'E07000134' 'E06000017' 'E06000016' 'E07000130' 'E07000129' 'E07000135'\n",
            " 'E07000133' 'E07000131' 'E06000061' 'E06000062' 'E07000008' 'E06000031'\n",
            " 'E07000010' 'E07000012' 'E07000009' 'E07000011' 'E07000149' 'E07000148'\n",
            " 'E07000146' 'E07000147' 'E07000143' 'E07000145' 'E07000144' 'E07000245'\n",
            " 'E07000244' 'E07000200' 'E07000202' 'E07000203' 'E06000056' 'E06000032'\n",
            " 'E06000055' 'E07000099' 'E07000098' 'E07000102' 'E07000240' 'E07000103'\n",
            " 'E07000096' 'E07000243' 'E07000095' 'E07000242' 'E07000241' 'E06000034'\n",
            " 'E07000070' 'E07000066' 'E07000072' 'E07000071' 'E07000073' 'E07000074'\n",
            " 'E07000076' 'E07000069' 'E06000033' 'E07000077' 'E07000067' 'E07000075'\n",
            " 'E07000068' 'E06000060' 'E06000038' 'E07000177' 'E06000037' 'E06000040'\n",
            " 'E06000042' 'E07000179' 'E07000181' 'E06000041' 'E07000178' 'E06000039'\n",
            " 'E06000036' 'E07000180' 'E07000094' 'E07000090' 'E06000045' 'E07000085'\n",
            " 'E07000088' 'E07000091' 'E06000046' 'E07000089' 'E06000044' 'E07000084'\n",
            " 'E07000093' 'E07000092' 'E07000086' 'E07000087' 'E07000216' 'E07000211'\n",
            " 'E07000208' 'E07000209' 'E07000215' 'E07000207' 'E07000210' 'E07000217'\n",
            " 'E07000212' 'E07000213' 'E07000228' 'E07000214' 'E07000107' 'E07000111'\n",
            " 'E06000035' 'E07000109' 'E07000113' 'E07000115' 'E07000116' 'E07000105'\n",
            " 'E07000108' 'E07000114' 'E07000112' 'E07000106' 'E07000110' 'E06000043'\n",
            " 'E07000061' 'E07000064' 'E07000227' 'E07000065' 'E07000224' 'E07000226'\n",
            " 'E07000062' 'E07000229' 'E07000225' 'E07000063' 'E07000223' 'E070']\n",
            "local_authority_highway: ['E09000007' 'E09000010' 'E09000016' 'E09000011' 'E09000023' 'E09000022'\n",
            " 'E09000014' 'E09000033' 'E09000012' 'E09000027' 'E09000030' 'E09000015'\n",
            " 'E09000019' 'E09000025' 'E09000004' 'E09000026' 'E09000005' 'E09000006'\n",
            " 'E09000003' 'E09000018' 'E09000017' 'E09000028' 'E09000021' 'E09000009'\n",
            " 'E09000032' 'E09000031' 'E09000002' 'E09000020' 'E09000024' 'E09000008'\n",
            " 'E09000029' 'E09000013' 'EHEATHROW' 'E06000063' 'E06000064' 'E10000017'\n",
            " 'E06000009' 'E06000008' 'E08000013' 'E08000015' 'E08000012' 'E08000011'\n",
            " 'E08000014' 'E08000008' 'E08000003' 'E08000005' 'E08000001' 'E08000010'\n",
            " 'E08000009' 'E08000004' 'E08000006' 'E08000007' 'E08000002' 'E06000050'\n",
            " 'E06000049' 'E06000007' 'E06000006' 'E08000021' 'E06000057' 'E08000024'\n",
            " 'E08000037' 'E08000022' 'E08000023' 'E08000035' 'E06000047' 'E06000005'\n",
            " 'E06000065' 'E06000014' 'E08000032' 'E08000034' 'E08000033' 'E08000036'\n",
            " 'E08000017' 'E10000007' 'E08000016' 'E08000019' 'E08000018' 'E06000012'\n",
            " 'E06000010' 'E06000013' 'E06000011' 'E10000019' 'E06000004' 'E06000001'\n",
            " 'E06000003' 'E06000002' 'E08000025' 'E08000031' 'E08000028' 'E08000029'\n",
            " 'E08000026' 'E08000027' 'E08000030' 'E10000031' 'E10000028' 'E10000034'\n",
            " 'E06000021' 'E06000020' 'E06000051' 'E06000019' 'E10000018' 'E06000015'\n",
            " 'E06000018' 'E10000024' 'E06000017' 'E06000016' 'E06000061' 'E06000062'\n",
            " 'E10000003' 'E06000031' 'E10000020' 'E10000029' 'E06000056' 'E06000032'\n",
            " 'E06000055' 'E10000015' 'E06000034' 'E10000012' 'E06000033' 'E06000060'\n",
            " 'E06000038' 'E10000025' 'E06000037' 'E06000040' 'E06000042' 'E06000041'\n",
            " 'E06000039' 'E06000036' 'E10000014' 'E06000045' 'E06000046' 'E06000044'\n",
            " 'E10000030' 'E10000032' 'E10000016' 'E06000035' 'E06000043' 'E10000011'\n",
            " nan]\n"
          ]
        }
      ]
    },
    {
      "cell_type": "code",
      "source": [
        "df.drop(['status', 'collision_index', 'collision_reference'], axis=1, inplace=True)\n",
        "\n",
        "df['hour'] = pd.to_datetime(df['time'], format='%H:%M', errors='coerce').dt.hour\n",
        "df.drop('time', axis=1, inplace=True)\n",
        "\n",
        "\n",
        "df['local_authority_ons_district'] = LabelEncoder().fit_transform(df['local_authority_ons_district'])\n",
        "df['local_authority_highway'] = LabelEncoder().fit_transform(df['local_authority_highway'])\n"
      ],
      "metadata": {
        "id": "qkM1Xlv1a4-q"
      },
      "execution_count": 8,
      "outputs": []
    },
    {
      "cell_type": "code",
      "source": [
        "X = df.drop('enhanced_severity_collision', axis=1)\n",
        "y = df['enhanced_severity_collision']\n",
        "\n",
        "numeric_features = X.select_dtypes(include=['int64', 'float64']).columns\n",
        "\n",
        "scaler = StandardScaler()\n",
        "\n",
        "\n",
        "X[numeric_features] = scaler.fit_transform(X[numeric_features])"
      ],
      "metadata": {
        "id": "KDbWbTxlP20K"
      },
      "execution_count": 9,
      "outputs": []
    },
    {
      "cell_type": "code",
      "source": [
        "\n",
        "X_numeric = X.select_dtypes(include=['int64', 'float64'])\n",
        "\n",
        "imputer = SimpleImputer(strategy='mean')\n",
        "X_numeric_imputed = pd.DataFrame(imputer.fit_transform(X_numeric), columns=X_numeric.columns)\n"
      ],
      "metadata": {
        "id": "d4uijPXGVa7c"
      },
      "execution_count": 41,
      "outputs": []
    },
    {
      "cell_type": "markdown",
      "source": [],
      "metadata": {
        "id": "HSLYXFqkS3lT"
      }
    },
    {
      "cell_type": "code",
      "source": [
        "#necessary for k means\n",
        "X_numeric = X.select_dtypes(include=['int64', 'float64'])\n",
        "\n",
        "inertia = []\n",
        "silhouette_scores = []\n",
        "K = range(2, 11)\n",
        "\n",
        "for k in K:\n",
        "    kmeans = KMeans(n_clusters=k, random_state=42)\n",
        "    kmeans.fit(X_numeric_imputed)\n",
        "    inertia.append(kmeans.inertia_)\n",
        "    score = silhouette_score(X_numeric_imputed, kmeans.labels_)\n",
        "    silhouette_scores.append(score)\n",
        "\n",
        "# Elbow Curve\n",
        "plt.figure(figsize=(8, 4))\n",
        "\n",
        "plt.subplot(1, 2, 1)\n",
        "plt.plot(K, inertia, 'bo-')\n",
        "plt.xlabel('Number of Clusters (k)')\n",
        "plt.ylabel('Inertia (WCSS)')\n",
        "plt.title('Elbow Method')\n",
        "\n",
        "# Silhouette Scores\n",
        "plt.subplot(1, 2, 2)\n",
        "plt.plot(K, silhouette_scores, 'go-')\n",
        "plt.xlabel('Number of Clusters (k)')\n",
        "plt.ylabel('Silhouette Score')\n",
        "plt.title('Silhouette Scores')\n",
        "\n",
        "plt.tight_layout()\n",
        "plt.show()\n"
      ],
      "metadata": {
        "colab": {
          "base_uri": "https://localhost:8080/",
          "height": 407
        },
        "id": "orq8tcqSS333",
        "outputId": "37e6e713-8775-499f-e4b7-27b26d6d535d"
      },
      "execution_count": 23,
      "outputs": [
        {
          "output_type": "display_data",
          "data": {
            "text/plain": [
              "<Figure size 800x400 with 2 Axes>"
            ],
            "image/png": "[encoded data removed]"
          },
          "metadata": {}
        }
      ]
    },
    {
      "cell_type": "code",
      "source": [
        "# optimal k = 7\n",
        "kmeans_final = KMeans(n_clusters=7, random_state=42)\n",
        "kmeans_labels = kmeans_final.fit_predict(X_numeric_imputed)\n",
        "\n",
        "df['KMeans_Cluster'] = kmeans_labels"
      ],
      "metadata": {
        "id": "kqfhajsbZ-Uq"
      },
      "execution_count": 26,
      "outputs": []
    },
    {
      "cell_type": "code",
      "source": [
        "agg = AgglomerativeClustering(n_clusters=7)\n",
        "agg_labels = agg.fit_predict(X_numeric_imputed)\n",
        "df['Agglomerative_Cluster'] = agg_labels"
      ],
      "metadata": {
        "id": "YIuF7SVdZ_G5"
      },
      "execution_count": 37,
      "outputs": []
    },
    {
      "cell_type": "code",
      "source": [
        "#KMeans Clustering\n",
        "kmeans_silhouette = silhouette_score(X_numeric_imputed, df['KMeans_Cluster'])\n",
        "kmeans_calinski = calinski_harabasz_score(X_numeric_imputed, df['KMeans_Cluster'])\n",
        "\n",
        "print(\"KMeans Clustering Evaluation:\")\n",
        "print(f\"Silhouette Score: {kmeans_silhouette:.4f}\")\n",
        "print(f\"Calinski-Harabasz Score: {kmeans_calinski:.2f}\")"
      ],
      "metadata": {
        "colab": {
          "base_uri": "https://localhost:8080/"
        },
        "id": "ygHrA3CbaU6Q",
        "outputId": "7509ffd5-ae7d-4f8c-f56b-38550ca5585a"
      },
      "execution_count": 33,
      "outputs": [
        {
          "output_type": "stream",
          "name": "stdout",
          "text": [
            "KMeans Clustering Evaluation:\n",
            "Silhouette Score: 0.1057\n",
            "Calinski-Harabasz Score: 3489.58\n"
          ]
        }
      ]
    },
    {
      "cell_type": "code",
      "source": [
        "# Agglomerative\n",
        "agg_silhouette = silhouette_score(X_numeric_imputed, agg_labels)\n",
        "agg_calinski = calinski_harabasz_score(X_numeric_imputed, agg_labels)\n",
        "\n",
        "print(\"\\nAgglomerative Clustering Evaluation:\")\n",
        "print(f\"Silhouette Score: {agg_silhouette:.4f}\")\n",
        "print(f\"Calinski-Harabasz Score: {agg_calinski:.2f}\")"
      ],
      "metadata": {
        "colab": {
          "base_uri": "https://localhost:8080/"
        },
        "id": "rdwth_CDbkfe",
        "outputId": "0342cd86-5658-4746-c3e5-d63b9f471ce1"
      },
      "execution_count": 38,
      "outputs": [
        {
          "output_type": "stream",
          "name": "stdout",
          "text": [
            "\n",
            "Agglomerative Clustering Evaluation:\n",
            "Silhouette Score: 0.1009\n",
            "Calinski-Harabasz Score: 3193.66\n"
          ]
        }
      ]
    },
    {
      "cell_type": "code",
      "source": [
        "rf = RandomForestClassifier(random_state=42, n_jobs=-1)\n",
        "\n",
        "n_features_to_select = int(X_numeric.shape[1] / 2)\n",
        "rfe = RFE(estimator=rf, n_features_to_select=n_features_to_select)\n",
        "\n",
        "rfe.fit(X_numeric_imputed_clean, y_clean)\n",
        "\n",
        "selected_features_mask = rfe.support_\n",
        "\n",
        "selected_features = X_numeric.columns[selected_features_mask]\n",
        "\n",
        "print(\"Selected Features by RF-RFE:\")\n",
        "print(selected_features)\n",
        "\n",
        "X_selected = X_numeric[selected_features]"
      ],
      "metadata": {
        "colab": {
          "base_uri": "https://localhost:8080/"
        },
        "id": "FOcZIpqidjmI",
        "outputId": "ed8b94df-a8e1-45bb-8932-bb26b8d40125"
      },
      "execution_count": 46,
      "outputs": [
        {
          "output_type": "stream",
          "name": "stdout",
          "text": [
            "Selected Features by RF-RFE:\n",
            "Index(['location_easting_osgr', 'location_northing_osgr', 'police_force',\n",
            "       'legacy_collision_severity', 'day_of_week',\n",
            "       'local_authority_ons_district', 'local_authority_highway',\n",
            "       'first_road_number', 'speed_limit', 'junction_detail',\n",
            "       'second_road_number', 'pedestrian_crossing_human_control',\n",
            "       'pedestrian_crossing_physical_facilities', 'special_conditions_at_site',\n",
            "       'carriageway_hazards'],\n",
            "      dtype='object')\n"
          ]
        }
      ]
    },
    {
      "cell_type": "code",
      "source": [
        "print(y.isnull().sum())\n",
        "mask = y.notnull()\n",
        "X_numeric_imputed_clean = X_numeric_imputed[mask]\n",
        "y_clean = y[mask]\n",
        "print(y_clean.isnull().sum())"
      ],
      "metadata": {
        "colab": {
          "base_uri": "https://localhost:8080/"
        },
        "id": "0kWCYQmkey5W",
        "outputId": "4cab8d92-2eb5-411f-df61-4b695677b450"
      },
      "execution_count": 45,
      "outputs": [
        {
          "output_type": "stream",
          "name": "stdout",
          "text": [
            "1\n",
            "0\n"
          ]
        }
      ]
    },
    {
      "cell_type": "code",
      "source": [
        "print(y_clean.value_counts())\n",
        "\n",
        "print(y_clean.value_counts(normalize=True))\n",
        "\n",
        "y_clean.value_counts().plot(kind='bar')\n",
        "plt.title('Accident_Severity Distribution')\n",
        "plt.xlabel('Accident Severity Classes')\n",
        "plt.ylabel('Count')\n",
        "plt.show()\n"
      ],
      "metadata": {
        "colab": {
          "base_uri": "https://localhost:8080/",
          "height": 763
        },
        "id": "0PXaiXpYfAPF",
        "outputId": "bba93531-1367-4013-c242-0dfccb8ca2e9"
      },
      "execution_count": 47,
      "outputs": [
        {
          "output_type": "stream",
          "name": "stdout",
          "text": [
            "enhanced_severity_collision\n",
            " 3.0    16540\n",
            "-1.0    15658\n",
            " 7.0     3546\n",
            " 6.0     1286\n",
            " 5.0     1026\n",
            " 1.0      354\n",
            "Name: count, dtype: int64\n",
            "enhanced_severity_collision\n",
            " 3.0    0.430617\n",
            "-1.0    0.407654\n",
            " 7.0    0.092320\n",
            " 6.0    0.033481\n",
            " 5.0    0.026712\n",
            " 1.0    0.009216\n",
            "Name: proportion, dtype: float64\n"
          ]
        },
        {
          "output_type": "display_data",
          "data": {
            "text/plain": [
              "<Figure size 640x480 with 1 Axes>"
            ],
            "image/png": "[encoded data removed]"
          },
          "metadata": {}
        }
      ]
    },
    {
      "cell_type": "code",
      "source": [
        "print(\"Original class distribution:\", Counter(y_clean))\n",
        "\n",
        "smote = SMOTE(random_state=42)\n",
        "X_smote, y_smote = smote.fit_resample(X_aligned, y_aligned)\n",
        "print(\"After SMOTE oversampling:\", Counter(y_smote))\n",
        "\n",
        "rus = RandomUnderSampler(random_state=42)\n",
        "X_rus, y_rus = rus.fit_resample(X_selected_imputed, y_clean)\n",
        "print(\"After Random Under Sampling:\", Counter(y_rus))\n"
      ],
      "metadata": {
        "colab": {
          "base_uri": "https://localhost:8080/"
        },
        "id": "qrs6NypMiH6R",
        "outputId": "5c36220a-d511-4422-a9fd-2f018520ea80"
      },
      "execution_count": 53,
      "outputs": [
        {
          "output_type": "stream",
          "name": "stdout",
          "text": [
            "Original class distribution: Counter({3.0: 16540, -1.0: 15658, 7.0: 3546, 6.0: 1286, 5.0: 1026, 1.0: 354})\n",
            "After SMOTE oversampling: Counter({-1.0: 16540, 3.0: 16540, 1.0: 16540, 7.0: 16540, 6.0: 16540, 5.0: 16540})\n",
            "After Random Under Sampling: Counter({-1.0: 354, 1.0: 354, 3.0: 354, 5.0: 354, 6.0: 354, 7.0: 354})\n"
          ]
        }
      ]
    },
    {
      "cell_type": "code",
      "source": [
        "common_index = X_selected_imputed.index.intersection(y_clean.index)\n",
        "X_aligned = X_selected_imputed.loc[common_index]\n",
        "y_aligned = y_clean.loc[common_index]\n",
        "\n",
        "print(len(X_aligned), len(y_aligned))\n",
        "\n",
        "X_smote, y_smote = smote.fit_resample(X_aligned, y_aligned)\n",
        "print(\"After SMOTE oversampling:\", Counter(y_smote))\n"
      ],
      "metadata": {
        "colab": {
          "base_uri": "https://localhost:8080/"
        },
        "id": "RTCMe7nWjIsY",
        "outputId": "04f80b39-b497-427b-b4e8-e77a81e58995"
      },
      "execution_count": 51,
      "outputs": [
        {
          "output_type": "stream",
          "name": "stdout",
          "text": [
            "38410 38410\n",
            "After SMOTE oversampling: Counter({-1.0: 16540, 3.0: 16540, 1.0: 16540, 7.0: 16540, 6.0: 16540, 5.0: 16540})\n"
          ]
        }
      ]
    },
    {
      "cell_type": "code",
      "source": [
        "imputer = SimpleImputer(strategy='median')\n",
        "\n",
        "X_selected_imputed = imputer.fit_transform(X_selected)\n",
        "\n",
        "X_selected_imputed = pd.DataFrame(X_selected_imputed, columns=X_selected.columns)\n",
        "\n",
        "print(\"Missing values after imputation:\", X_selected_imputed.isnull().sum().sum())\n"
      ],
      "metadata": {
        "colab": {
          "base_uri": "https://localhost:8080/"
        },
        "id": "vEQu2lY3ioFm",
        "outputId": "1f30026a-3b5b-4a33-dcc1-92670dcc4a8d"
      },
      "execution_count": 49,
      "outputs": [
        {
          "output_type": "stream",
          "name": "stdout",
          "text": [
            "Missing values after imputation: 0\n"
          ]
        }
      ]
    },
    {
      "cell_type": "code",
      "source": [
        "models = {\n",
        "    \"Logistic Regression\": LogisticRegression(max_iter=1000, random_state=42),\n",
        "    \"SVM\": SVC(random_state=42),\n",
        "    \"Random Forest\": RandomForestClassifier(random_state=42),\n",
        "    \"XGBoost\": XGBClassifier(use_label_encoder=False, eval_metric='logloss', random_state=42),\n",
        "    \"Gradient Boosting\": GradientBoostingClassifier(random_state=42)\n",
        "}\n",
        "\n",
        "results = {}\n",
        "\n",
        "for name, model in models.items():\n",
        "    print(f\"Training {name}...\")\n",
        "    model.fit(X_smote, y_smote_encoded)\n",
        "    y_pred = model.predict(X_smote)\n",
        "\n",
        "    acc = accuracy_score(y_smote_encoded, y_pred)\n",
        "    prec = precision_score(y_smote_encoded, y_pred, average='weighted', zero_division=0)\n",
        "    rec = recall_score(y_smote_encoded, y_pred, average='weighted')\n",
        "    f1 = f1_score(y_smote_encoded, y_pred, average='weighted')\n",
        "\n",
        "    print(f\"Accuracy: {acc:.4f}\")\n",
        "    print(f\"Precision: {prec:.4f}\")\n",
        "    print(f\"Recall: {rec:.4f}\")\n",
        "    print(f\"F1 Score: {f1:.4f}\")\n",
        "    print(\"Classification Report:\")\n",
        "    print(classification_report(y_smote_encoded, y_pred, zero_division=0))\n",
        "    print(\"Confusion Matrix:\")\n",
        "    print(confusion_matrix(y_smote_encoded, y_pred))\n",
        "    print(\"-\" * 50)\n",
        "\n",
        "    results[name] = {\n",
        "        \"accuracy\": acc,\n",
        "        \"precision\": prec,\n",
        "        \"recall\": rec,\n",
        "        \"f1_score\": f1\n",
        "    }\n"
      ],
      "metadata": {
        "colab": {
          "base_uri": "https://localhost:8080/"
        },
        "id": "EtsG0Jw2jbjI",
        "outputId": "1c44b6f0-a71f-483e-83e7-6e7f6b856928"
      },
      "execution_count": 58,
      "outputs": [
        {
          "output_type": "stream",
          "name": "stdout",
          "text": [
            "Training Logistic Regression...\n",
            "Accuracy: 0.6586\n",
            "Precision: 0.6645\n",
            "Recall: 0.6586\n",
            "F1 Score: 0.6575\n",
            "Classification Report:\n",
            "              precision    recall  f1-score   support\n",
            "\n",
            "           0       0.92      0.75      0.83     16540\n",
            "           1       0.99      1.00      1.00     16540\n",
            "           2       0.84      0.95      0.89     16540\n",
            "           3       0.40      0.51      0.45     16540\n",
            "           4       0.40      0.31      0.35     16540\n",
            "           5       0.43      0.43      0.43     16540\n",
            "\n",
            "    accuracy                           0.66     99240\n",
            "   macro avg       0.66      0.66      0.66     99240\n",
            "weighted avg       0.66      0.66      0.66     99240\n",
            "\n",
            "Confusion Matrix:\n",
            "[[12368   120  2955   459   120   518]\n",
            " [    0 16540     0     0     0     0]\n",
            " [  822     0 15718     0     0     0]\n",
            " [   65     0     0  8516  3954  4005]\n",
            " [  100     0     0  6405  5098  4937]\n",
            " [   53     0     0  5686  3682  7119]]\n",
            "--------------------------------------------------\n",
            "Training SVM...\n",
            "Accuracy: 0.7439\n",
            "Precision: 0.7456\n",
            "Recall: 0.7439\n",
            "F1 Score: 0.7434\n",
            "Classification Report:\n",
            "              precision    recall  f1-score   support\n",
            "\n",
            "           0       0.97      0.97      0.97     16540\n",
            "           1       0.99      1.00      1.00     16540\n",
            "           2       1.00      0.97      0.98     16540\n",
            "           3       0.51      0.62      0.56     16540\n",
            "           4       0.49      0.47      0.48     16540\n",
            "           5       0.51      0.44      0.47     16540\n",
            "\n",
            "    accuracy                           0.74     99240\n",
            "   macro avg       0.75      0.74      0.74     99240\n",
            "weighted avg       0.75      0.74      0.74     99240\n",
            "\n",
            "Confusion Matrix:\n",
            "[[16004    87    67   121   147   114]\n",
            " [    0 16540     0     0     0     0]\n",
            " [  475     0 16065     0     0     0]\n",
            " [    2     0     0 10189  3498  2851]\n",
            " [    5     0     0  4804  7778  3953]\n",
            " [    7     0     0  4854  4426  7253]]\n",
            "--------------------------------------------------\n",
            "Training Random Forest...\n",
            "Accuracy: 1.0000\n",
            "Precision: 1.0000\n",
            "Recall: 1.0000\n",
            "F1 Score: 1.0000\n",
            "Classification Report:\n",
            "              precision    recall  f1-score   support\n",
            "\n",
            "           0       1.00      1.00      1.00     16540\n",
            "           1       1.00      1.00      1.00     16540\n",
            "           2       1.00      1.00      1.00     16540\n",
            "           3       1.00      1.00      1.00     16540\n",
            "           4       1.00      1.00      1.00     16540\n",
            "           5       1.00      1.00      1.00     16540\n",
            "\n",
            "    accuracy                           1.00     99240\n",
            "   macro avg       1.00      1.00      1.00     99240\n",
            "weighted avg       1.00      1.00      1.00     99240\n",
            "\n",
            "Confusion Matrix:\n",
            "[[16540     0     0     0     0     0]\n",
            " [    0 16540     0     0     0     0]\n",
            " [    0     0 16540     0     0     0]\n",
            " [    0     0     0 16540     0     0]\n",
            " [    0     0     0     0 16540     0]\n",
            " [    0     0     0     0     0 16540]]\n",
            "--------------------------------------------------\n",
            "Training XGBoost...\n"
          ]
        },
        {
          "output_type": "stream",
          "name": "stderr",
          "text": [
            "/usr/local/lib/python3.11/dist-packages/xgboost/core.py:158: UserWarning: [09:53:11] WARNING: /workspace/src/learner.cc:740: \n",
            "Parameters: { \"use_label_encoder\" } are not used.\n",
            "\n",
            "  warnings.warn(smsg, UserWarning)\n"
          ]
        },
        {
          "output_type": "stream",
          "name": "stdout",
          "text": [
            "Accuracy: 0.9252\n",
            "Precision: 0.9253\n",
            "Recall: 0.9252\n",
            "F1 Score: 0.9251\n",
            "Classification Report:\n",
            "              precision    recall  f1-score   support\n",
            "\n",
            "           0       1.00      1.00      1.00     16540\n",
            "           1       1.00      1.00      1.00     16540\n",
            "           2       1.00      1.00      1.00     16540\n",
            "           3       0.86      0.89      0.87     16540\n",
            "           4       0.84      0.85      0.84     16540\n",
            "           5       0.86      0.81      0.84     16540\n",
            "\n",
            "    accuracy                           0.93     99240\n",
            "   macro avg       0.93      0.93      0.93     99240\n",
            "weighted avg       0.93      0.93      0.93     99240\n",
            "\n",
            "Confusion Matrix:\n",
            "[[16540     0     0     0     0     0]\n",
            " [    0 16540     0     0     0     0]\n",
            " [    0     0 16540     0     0     0]\n",
            " [    0     0     0 14697  1014   829]\n",
            " [    0     0     0  1122 14070  1348]\n",
            " [    0     0     0  1353  1753 13434]]\n",
            "--------------------------------------------------\n",
            "Training Gradient Boosting...\n",
            "Accuracy: 0.7813\n",
            "Precision: 0.7811\n",
            "Recall: 0.7813\n",
            "F1 Score: 0.7812\n",
            "Classification Report:\n",
            "              precision    recall  f1-score   support\n",
            "\n",
            "           0       1.00      1.00      1.00     16540\n",
            "           1       1.00      1.00      1.00     16540\n",
            "           2       1.00      1.00      1.00     16540\n",
            "           3       0.57      0.59      0.58     16540\n",
            "           4       0.53      0.52      0.53     16540\n",
            "           5       0.58      0.58      0.58     16540\n",
            "\n",
            "    accuracy                           0.78     99240\n",
            "   macro avg       0.78      0.78      0.78     99240\n",
            "weighted avg       0.78      0.78      0.78     99240\n",
            "\n",
            "Confusion Matrix:\n",
            "[[16532     4     3     1     0     0]\n",
            " [    0 16540     0     0     0     0]\n",
            " [    2     0 16538     0     0     0]\n",
            " [    8     0     0  9805  3875  2852]\n",
            " [    1     0     0  4025  8581  3933]\n",
            " [    1     0     0  3409  3589  9541]]\n",
            "--------------------------------------------------\n"
          ]
        }
      ]
    },
    {
      "cell_type": "code",
      "source": [
        "label_encoder = LabelEncoder()\n",
        "\n",
        "y_smote_encoded = label_encoder.fit_transform(y_smote)\n",
        "\n",
        "print(\"Encoded class labels:\", np.unique(y_smote_encoded))"
      ],
      "metadata": {
        "colab": {
          "base_uri": "https://localhost:8080/"
        },
        "id": "l-mANPWrnFac",
        "outputId": "e7601440-159c-4a3e-9678-e2d89ac32f78"
      },
      "execution_count": 55,
      "outputs": [
        {
          "output_type": "stream",
          "name": "stdout",
          "text": [
            "Encoded class labels: [0 1 2 3 4 5]\n"
          ]
        }
      ]
    },
    {
      "cell_type": "markdown",
      "source": [
        "DS2 is imported from sklearn datasets\n"
      ],
      "metadata": {
        "id": "vDsozfk8uvkv"
      }
    },
    {
      "cell_type": "code",
      "source": [
        "from sklearn.datasets import load_breast_cancer\n",
        "\n",
        "data = load_breast_cancer()\n",
        "X = pd.DataFrame(data.data, columns=data.feature_names)\n",
        "y = pd.Series(data.target, name='target')\n",
        "\n",
        "print(X.shape)\n",
        "print(X.head())\n",
        "print(y.value_counts())\n"
      ],
      "metadata": {
        "colab": {
          "base_uri": "https://localhost:8080/"
        },
        "id": "wTN_TJgbt0gd",
        "outputId": "684102b6-8041-4377-9ee3-87236e431e59"
      },
      "execution_count": 60,
      "outputs": [
        {
          "output_type": "stream",
          "name": "stdout",
          "text": [
            "(569, 30)\n",
            "   mean radius  mean texture  mean perimeter  mean area  mean smoothness  \\\n",
            "0        17.99         10.38          122.80     1001.0          0.11840   \n",
            "1        20.57         17.77          132.90     1326.0          0.08474   \n",
            "2        19.69         21.25          130.00     1203.0          0.10960   \n",
            "3        11.42         20.38           77.58      386.1          0.14250   \n",
            "4        20.29         14.34          135.10     1297.0          0.10030   \n",
            "\n",
            "   mean compactness  mean concavity  mean concave points  mean symmetry  \\\n",
            "0           0.27760          0.3001              0.14710         0.2419   \n",
            "1           0.07864          0.0869              0.07017         0.1812   \n",
            "2           0.15990          0.1974              0.12790         0.2069   \n",
            "3           0.28390          0.2414              0.10520         0.2597   \n",
            "4           0.13280          0.1980              0.10430         0.1809   \n",
            "\n",
            "   mean fractal dimension  ...  worst radius  worst texture  worst perimeter  \\\n",
            "0                 0.07871  ...         25.38          17.33           184.60   \n",
            "1                 0.05667  ...         24.99          23.41           158.80   \n",
            "2                 0.05999  ...         23.57          25.53           152.50   \n",
            "3                 0.09744  ...         14.91          26.50            98.87   \n",
            "4                 0.05883  ...         22.54          16.67           152.20   \n",
            "\n",
            "   worst area  worst smoothness  worst compactness  worst concavity  \\\n",
            "0      2019.0            0.1622             0.6656           0.7119   \n",
            "1      1956.0            0.1238             0.1866           0.2416   \n",
            "2      1709.0            0.1444             0.4245           0.4504   \n",
            "3       567.7            0.2098             0.8663           0.6869   \n",
            "4      1575.0            0.1374             0.2050           0.4000   \n",
            "\n",
            "   worst concave points  worst symmetry  worst fractal dimension  \n",
            "0                0.2654          0.4601                  0.11890  \n",
            "1                0.1860          0.2750                  0.08902  \n",
            "2                0.2430          0.3613                  0.08758  \n",
            "3                0.2575          0.6638                  0.17300  \n",
            "4                0.1625          0.2364                  0.07678  \n",
            "\n",
            "[5 rows x 30 columns]\n",
            "target\n",
            "1    357\n",
            "0    212\n",
            "Name: count, dtype: int64\n"
          ]
        }
      ]
    },
    {
      "cell_type": "code",
      "source": [
        "from sklearn.preprocessing import StandardScaler\n",
        "from sklearn.decomposition import PCA\n",
        "\n",
        "scaler = StandardScaler()\n",
        "X_scaled = scaler.fit_transform(X)\n",
        "\n",
        "pca = PCA(n_components=0.95, random_state=42)\n",
        "X_pca = pca.fit_transform(X_scaled)\n",
        "\n",
        "print(f\"Original shape: {X.shape}\")\n",
        "print(f\"PCA-transformed shape: {X_pca.shape}\")\n",
        "\n",
        "\n",
        "plt.figure(figsize=(8, 4))\n",
        "plt.plot(np.cumsum(pca.explained_variance_ratio_), marker='o')\n",
        "plt.xlabel('Number of Components')\n",
        "plt.ylabel('Cumulative Explained Variance')\n",
        "plt.title('PCA - Explained Variance')\n",
        "plt.grid(True)\n",
        "plt.show()\n"
      ],
      "metadata": {
        "colab": {
          "base_uri": "https://localhost:8080/",
          "height": 445
        },
        "id": "bjkDYTx9uBwZ",
        "outputId": "680a26ec-73c1-4006-89cb-6d7b730be55e"
      },
      "execution_count": 61,
      "outputs": [
        {
          "output_type": "stream",
          "name": "stdout",
          "text": [
            "Original shape: (569, 30)\n",
            "PCA-transformed shape: (569, 10)\n"
          ]
        },
        {
          "output_type": "display_data",
          "data": {
            "text/plain": [
              "<Figure size 800x400 with 1 Axes>"
            ],
            "image/png": "[encoded data removed]"
          },
          "metadata": {}
        }
      ]
    },
    {
      "cell_type": "code",
      "source": [
        "import tensorflow as tf\n",
        "from tensorflow.keras.models import Model\n",
        "from tensorflow.keras.layers import Input, Dense\n",
        "\n",
        "input_dim = X_scaled.shape[1]\n",
        "encoding_dim = 10\n",
        "\n",
        "input_layer = Input(shape=(input_dim,))\n",
        "encoded = Dense(encoding_dim, activation='relu')(input_layer)\n",
        "decoded = Dense(input_dim, activation='linear')(encoded)\n",
        "\n",
        "autoencoder = Model(inputs=input_layer, outputs=decoded)\n",
        "encoder = Model(inputs=input_layer, outputs=encoded)\n",
        "\n",
        "autoencoder.compile(optimizer='adam', loss='mse')\n",
        "autoencoder.fit(X_scaled, X_scaled, epochs=50, batch_size=16, shuffle=True, verbose=0)\n",
        "\n",
        "X_autoencoded = encoder.predict(X_scaled)\n",
        "\n",
        "print(f\"Autoencoder-transformed shape: {X_autoencoded.shape}\")\n"
      ],
      "metadata": {
        "colab": {
          "base_uri": "https://localhost:8080/"
        },
        "id": "bJo6GAWguD6l",
        "outputId": "2a437346-7813-4817-9afa-559a76b035fe"
      },
      "execution_count": 62,
      "outputs": [
        {
          "output_type": "stream",
          "name": "stdout",
          "text": [
            "\u001b[1m18/18\u001b[0m \u001b[32m━━━━━━━━━━━━━━━━━━━━\u001b[0m\u001b[37m\u001b[0m \u001b[1m0s\u001b[0m 3ms/step \n",
            "Autoencoder-transformed shape: (569, 10)\n"
          ]
        }
      ]
    },
    {
      "cell_type": "code",
      "source": [
        "from sklearn.model_selection import train_test_split\n",
        "\n",
        "\n",
        "X_pca_train, X_pca_test, y_pca_train, y_pca_test = train_test_split(X_pca, y, test_size=0.2, random_state=42)\n",
        "X_ae_train, X_ae_test, y_ae_train, y_ae_test = train_test_split(X_autoencoded, y, test_size=0.2, random_state=42)\n",
        "\n",
        "models = {\n",
        "    \"Logistic Regression\": LogisticRegression(max_iter=1000, random_state=42),\n",
        "    \"Random Forest\": RandomForestClassifier(n_estimators=100, random_state=42)\n",
        "}\n",
        "\n",
        "for name, model in models.items():\n",
        "    print(f\"\\n=== {name} on PCA Features ===\")\n",
        "    model.fit(X_pca_train, y_pca_train)\n",
        "    y_pca_pred = model.predict(X_pca_test)\n",
        "    print(f\"Accuracy: {accuracy_score(y_pca_test, y_pca_pred):.4f}\")\n",
        "    print(classification_report(y_pca_test, y_pca_pred))\n",
        "\n",
        "    print(f\"\\n=== {name} on Autoencoder Features ===\")\n",
        "    model.fit(X_ae_train, y_ae_train)\n",
        "    y_ae_pred = model.predict(X_ae_test)\n",
        "    print(f\"Accuracy: {accuracy_score(y_ae_test, y_ae_pred):.4f}\")\n",
        "    print(classification_report(y_ae_test, y_ae_pred))\n"
      ],
      "metadata": {
        "colab": {
          "base_uri": "https://localhost:8080/"
        },
        "id": "qH19S2oBuloN",
        "outputId": "1f62c91a-672e-4a66-ac21-7e23513a6d7d"
      },
      "execution_count": 63,
      "outputs": [
        {
          "output_type": "stream",
          "name": "stdout",
          "text": [
            "\n",
            "=== Logistic Regression on PCA Features ===\n",
            "Accuracy: 0.9825\n",
            "              precision    recall  f1-score   support\n",
            "\n",
            "           0       0.98      0.98      0.98        43\n",
            "           1       0.99      0.99      0.99        71\n",
            "\n",
            "    accuracy                           0.98       114\n",
            "   macro avg       0.98      0.98      0.98       114\n",
            "weighted avg       0.98      0.98      0.98       114\n",
            "\n",
            "\n",
            "=== Logistic Regression on Autoencoder Features ===\n",
            "Accuracy: 0.9649\n",
            "              precision    recall  f1-score   support\n",
            "\n",
            "           0       0.95      0.95      0.95        43\n",
            "           1       0.97      0.97      0.97        71\n",
            "\n",
            "    accuracy                           0.96       114\n",
            "   macro avg       0.96      0.96      0.96       114\n",
            "weighted avg       0.96      0.96      0.96       114\n",
            "\n",
            "\n",
            "=== Random Forest on PCA Features ===\n",
            "Accuracy: 0.9561\n",
            "              precision    recall  f1-score   support\n",
            "\n",
            "           0       0.93      0.95      0.94        43\n",
            "           1       0.97      0.96      0.96        71\n",
            "\n",
            "    accuracy                           0.96       114\n",
            "   macro avg       0.95      0.96      0.95       114\n",
            "weighted avg       0.96      0.96      0.96       114\n",
            "\n",
            "\n",
            "=== Random Forest on Autoencoder Features ===\n",
            "Accuracy: 0.9649\n",
            "              precision    recall  f1-score   support\n",
            "\n",
            "           0       0.95      0.95      0.95        43\n",
            "           1       0.97      0.97      0.97        71\n",
            "\n",
            "    accuracy                           0.96       114\n",
            "   macro avg       0.96      0.96      0.96       114\n",
            "weighted avg       0.96      0.96      0.96       114\n",
            "\n"
          ]
        }
      ]
    }
  ]
}